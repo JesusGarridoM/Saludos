{
 "cells": [
  {
   "cell_type": "code",
   "execution_count": 1,
   "id": "d0189177",
   "metadata": {},
   "outputs": [],
   "source": [
    "from keras.models import Sequential\n",
    "from keras.layers import Dense\n",
    "from keras.utils import np_utils\n",
    "import numpy as np\n",
    "from keras.wrappers.scikit_learn import KerasClassifier\n",
    "from sklearn.model_selection import train_test_split\n",
    "import matplotlib.pyplot as plt\n",
    "from scipy.fft import fft\n",
    "from sklearn.model_selection import KFold\n",
    "from sklearn.model_selection import cross_val_score\n",
    "import matplotlib.pyplot as plt"
   ]
  },
  {
   "cell_type": "code",
   "execution_count": 54,
   "id": "a186701b",
   "metadata": {},
   "outputs": [],
   "source": [
    "%run ProcesarDatos.ipynb"
   ]
  },
  {
   "cell_type": "markdown",
   "id": "4cf8a167",
   "metadata": {},
   "source": [
    "# Adquisicion"
   ]
  },
  {
   "cell_type": "code",
   "execution_count": 3,
   "id": "7ef8bc83",
   "metadata": {},
   "outputs": [],
   "source": [
    "data=leerExceltoFFT('../../../UPIITA/9 SEMESTRE/SENIALES/PROYECTO/OBJ_0304/data.xlsx')\n",
    "data=(data.T/np.max(data,axis=1)).T"
   ]
  },
  {
   "cell_type": "code",
   "execution_count": 4,
   "id": "76a7ccba",
   "metadata": {},
   "outputs": [
    {
     "name": "stdout",
     "output_type": "stream",
     "text": [
      "(160, 16)\n",
      "[[1. 0. 0. 0. 0. 0. 0. 0. 0. 0. 0. 0. 0. 0. 0. 0.]\n",
      " [1. 0. 0. 0. 0. 0. 0. 0. 0. 0. 0. 0. 0. 0. 0. 0.]\n",
      " [1. 0. 0. 0. 0. 0. 0. 0. 0. 0. 0. 0. 0. 0. 0. 0.]\n",
      " [1. 0. 0. 0. 0. 0. 0. 0. 0. 0. 0. 0. 0. 0. 0. 0.]\n",
      " [1. 0. 0. 0. 0. 0. 0. 0. 0. 0. 0. 0. 0. 0. 0. 0.]\n",
      " [1. 0. 0. 0. 0. 0. 0. 0. 0. 0. 0. 0. 0. 0. 0. 0.]\n",
      " [1. 0. 0. 0. 0. 0. 0. 0. 0. 0. 0. 0. 0. 0. 0. 0.]\n",
      " [1. 0. 0. 0. 0. 0. 0. 0. 0. 0. 0. 0. 0. 0. 0. 0.]\n",
      " [1. 0. 0. 0. 0. 0. 0. 0. 0. 0. 0. 0. 0. 0. 0. 0.]\n",
      " [1. 0. 0. 0. 0. 0. 0. 0. 0. 0. 0. 0. 0. 0. 0. 0.]\n",
      " [0. 1. 0. 0. 0. 0. 0. 0. 0. 0. 0. 0. 0. 0. 0. 0.]\n",
      " [0. 1. 0. 0. 0. 0. 0. 0. 0. 0. 0. 0. 0. 0. 0. 0.]\n",
      " [0. 1. 0. 0. 0. 0. 0. 0. 0. 0. 0. 0. 0. 0. 0. 0.]\n",
      " [0. 1. 0. 0. 0. 0. 0. 0. 0. 0. 0. 0. 0. 0. 0. 0.]\n",
      " [0. 1. 0. 0. 0. 0. 0. 0. 0. 0. 0. 0. 0. 0. 0. 0.]]\n"
     ]
    }
   ],
   "source": [
    "#target=np.repeat([])\n",
    "target=np_utils.to_categorical(np.repeat([np.arange(0,16)],10))\n",
    "print(target.shape)\n",
    "print(target[0:15,:])"
   ]
  },
  {
   "cell_type": "code",
   "execution_count": 5,
   "id": "6b14632d",
   "metadata": {},
   "outputs": [
    {
     "name": "stdout",
     "output_type": "stream",
     "text": [
      "(112, 19999)\n",
      "(48, 19999)\n",
      "(112, 16)\n",
      "(48, 16)\n"
     ]
    }
   ],
   "source": [
    "x_train,x_test,y_train,y_test=train_test_split(data,target,test_size=0.30)\n",
    "print(x_train.shape)\n",
    "print(x_test.shape)\n",
    "print(y_train.shape)\n",
    "print(y_test.shape)"
   ]
  },
  {
   "cell_type": "code",
   "execution_count": null,
   "id": "a6fde687",
   "metadata": {},
   "outputs": [],
   "source": [
    "for i in range (10):\n",
    "    plt.subplot(10,2,i+(i+1))\n",
    "    plt.plot(data[i,:])\n",
    "    \n",
    "    plt.subplot(10,2,i+(i+2))\n",
    "    plt.plot(data[10+i,:])"
   ]
  },
  {
   "cell_type": "markdown",
   "id": "9cbfba8c",
   "metadata": {},
   "source": [
    "# Entrenar neurona"
   ]
  },
  {
   "cell_type": "code",
   "execution_count": 6,
   "id": "ff2df739",
   "metadata": {},
   "outputs": [],
   "source": [
    "import tensorflow as tf\n",
    "# Eliminar warning\n",
    "tf.compat.v1.logging.set_verbosity(tf.compat.v1.logging.ERROR)"
   ]
  },
  {
   "cell_type": "markdown",
   "id": "3553ccab",
   "metadata": {},
   "source": [
    "## Con model.fit"
   ]
  },
  {
   "cell_type": "code",
   "execution_count": 7,
   "id": "68a5bf3f",
   "metadata": {},
   "outputs": [],
   "source": [
    "model=Sequential()\n",
    "model.add(Dense(24,input_dim=19999,activation='relu'))\n",
    "model.add(Dense(16,activation='softmax'))\n",
    "model.compile(loss='categorical_crossentropy',optimizer='adam',metrics=['accuracy'])"
   ]
  },
  {
   "cell_type": "code",
   "execution_count": 8,
   "id": "f4a7d7cb",
   "metadata": {
    "collapsed": true
   },
   "outputs": [
    {
     "name": "stdout",
     "output_type": "stream",
     "text": [
      "Epoch 1/100\n",
      "4/4 [==============================] - 1s 256ms/step - loss: 2.5303 - accuracy: 0.1964 - val_loss: 2.3121 - val_accuracy: 0.3333\n",
      "Epoch 2/100\n",
      "4/4 [==============================] - 0s 112ms/step - loss: 1.8819 - accuracy: 0.4464 - val_loss: 1.9624 - val_accuracy: 0.4167\n",
      "Epoch 3/100\n",
      "4/4 [==============================] - 0s 98ms/step - loss: 1.5132 - accuracy: 0.5893 - val_loss: 1.8900 - val_accuracy: 0.3750\n",
      "Epoch 4/100\n",
      "4/4 [==============================] - 0s 133ms/step - loss: 1.2864 - accuracy: 0.6339 - val_loss: 1.7261 - val_accuracy: 0.4167\n",
      "Epoch 5/100\n",
      "4/4 [==============================] - 0s 124ms/step - loss: 1.1079 - accuracy: 0.6696 - val_loss: 1.5861 - val_accuracy: 0.5000\n",
      "Epoch 6/100\n",
      "4/4 [==============================] - 0s 25ms/step - loss: 0.9703 - accuracy: 0.7679 - val_loss: 1.4462 - val_accuracy: 0.5417\n",
      "Epoch 7/100\n",
      "4/4 [==============================] - 0s 22ms/step - loss: 0.8443 - accuracy: 0.8214 - val_loss: 1.3780 - val_accuracy: 0.5417\n",
      "Epoch 8/100\n",
      "4/4 [==============================] - 0s 30ms/step - loss: 0.7436 - accuracy: 0.8661 - val_loss: 1.2930 - val_accuracy: 0.5625\n",
      "Epoch 9/100\n",
      "4/4 [==============================] - 0s 25ms/step - loss: 0.6491 - accuracy: 0.9018 - val_loss: 1.1878 - val_accuracy: 0.6042\n",
      "Epoch 10/100\n",
      "4/4 [==============================] - 0s 23ms/step - loss: 0.5665 - accuracy: 0.9196 - val_loss: 1.1415 - val_accuracy: 0.6250\n",
      "Epoch 11/100\n",
      "4/4 [==============================] - 0s 26ms/step - loss: 0.5007 - accuracy: 0.9464 - val_loss: 1.0990 - val_accuracy: 0.6042\n",
      "Epoch 12/100\n",
      "4/4 [==============================] - 0s 27ms/step - loss: 0.4373 - accuracy: 0.9643 - val_loss: 1.0218 - val_accuracy: 0.6042\n",
      "Epoch 13/100\n",
      "4/4 [==============================] - 0s 20ms/step - loss: 0.3866 - accuracy: 0.9643 - val_loss: 0.9581 - val_accuracy: 0.6042\n",
      "Epoch 14/100\n",
      "4/4 [==============================] - 0s 29ms/step - loss: 0.3449 - accuracy: 0.9732 - val_loss: 0.9197 - val_accuracy: 0.6250\n",
      "Epoch 15/100\n",
      "4/4 [==============================] - 0s 27ms/step - loss: 0.3078 - accuracy: 0.9732 - val_loss: 0.8888 - val_accuracy: 0.6458\n",
      "Epoch 16/100\n",
      "4/4 [==============================] - 0s 20ms/step - loss: 0.2751 - accuracy: 0.9732 - val_loss: 0.8366 - val_accuracy: 0.6458\n",
      "Epoch 17/100\n",
      "4/4 [==============================] - 0s 20ms/step - loss: 0.2458 - accuracy: 0.9732 - val_loss: 0.7956 - val_accuracy: 0.6667\n",
      "Epoch 18/100\n",
      "4/4 [==============================] - 0s 20ms/step - loss: 0.2243 - accuracy: 0.9732 - val_loss: 0.7731 - val_accuracy: 0.6667\n",
      "Epoch 19/100\n",
      "4/4 [==============================] - 0s 21ms/step - loss: 0.2026 - accuracy: 0.9732 - val_loss: 0.7936 - val_accuracy: 0.6458\n",
      "Epoch 20/100\n",
      "4/4 [==============================] - 0s 17ms/step - loss: 0.1845 - accuracy: 0.9821 - val_loss: 0.8103 - val_accuracy: 0.6250\n",
      "Epoch 21/100\n",
      "4/4 [==============================] - 0s 18ms/step - loss: 0.1687 - accuracy: 0.9911 - val_loss: 0.7741 - val_accuracy: 0.6458\n",
      "Epoch 22/100\n",
      "4/4 [==============================] - 0s 21ms/step - loss: 0.1548 - accuracy: 0.9911 - val_loss: 0.7263 - val_accuracy: 0.6458\n",
      "Epoch 23/100\n",
      "4/4 [==============================] - 0s 24ms/step - loss: 0.1424 - accuracy: 0.9911 - val_loss: 0.7103 - val_accuracy: 0.6458\n",
      "Epoch 24/100\n",
      "4/4 [==============================] - 0s 19ms/step - loss: 0.1312 - accuracy: 0.9911 - val_loss: 0.7352 - val_accuracy: 0.6458\n",
      "Epoch 25/100\n",
      "4/4 [==============================] - 0s 21ms/step - loss: 0.1206 - accuracy: 1.0000 - val_loss: 0.7401 - val_accuracy: 0.6458\n",
      "Epoch 26/100\n",
      "4/4 [==============================] - 0s 20ms/step - loss: 0.1121 - accuracy: 1.0000 - val_loss: 0.7260 - val_accuracy: 0.6458\n",
      "Epoch 27/100\n",
      "4/4 [==============================] - 0s 24ms/step - loss: 0.1043 - accuracy: 1.0000 - val_loss: 0.6905 - val_accuracy: 0.6667\n",
      "Epoch 28/100\n",
      "4/4 [==============================] - 0s 24ms/step - loss: 0.0963 - accuracy: 1.0000 - val_loss: 0.6726 - val_accuracy: 0.6667\n",
      "Epoch 29/100\n",
      "4/4 [==============================] - 0s 18ms/step - loss: 0.0907 - accuracy: 1.0000 - val_loss: 0.6643 - val_accuracy: 0.6458\n",
      "Epoch 30/100\n",
      "4/4 [==============================] - 0s 18ms/step - loss: 0.0838 - accuracy: 1.0000 - val_loss: 0.6712 - val_accuracy: 0.6458\n",
      "Epoch 31/100\n",
      "4/4 [==============================] - 0s 22ms/step - loss: 0.0794 - accuracy: 1.0000 - val_loss: 0.6880 - val_accuracy: 0.6667\n",
      "Epoch 32/100\n",
      "4/4 [==============================] - 0s 27ms/step - loss: 0.0743 - accuracy: 1.0000 - val_loss: 0.6747 - val_accuracy: 0.6875\n",
      "Epoch 33/100\n",
      "4/4 [==============================] - 0s 21ms/step - loss: 0.0692 - accuracy: 1.0000 - val_loss: 0.6439 - val_accuracy: 0.7083\n",
      "Epoch 34/100\n",
      "4/4 [==============================] - 0s 17ms/step - loss: 0.0652 - accuracy: 1.0000 - val_loss: 0.6250 - val_accuracy: 0.7292\n",
      "Epoch 35/100\n",
      "4/4 [==============================] - 0s 17ms/step - loss: 0.0617 - accuracy: 1.0000 - val_loss: 0.6309 - val_accuracy: 0.7083\n",
      "Epoch 36/100\n",
      "4/4 [==============================] - 0s 21ms/step - loss: 0.0582 - accuracy: 1.0000 - val_loss: 0.6448 - val_accuracy: 0.6875\n",
      "Epoch 37/100\n",
      "4/4 [==============================] - 0s 21ms/step - loss: 0.0551 - accuracy: 1.0000 - val_loss: 0.6570 - val_accuracy: 0.6667\n",
      "Epoch 38/100\n",
      "4/4 [==============================] - 0s 24ms/step - loss: 0.0520 - accuracy: 1.0000 - val_loss: 0.6540 - val_accuracy: 0.6875\n",
      "Epoch 39/100\n",
      "4/4 [==============================] - 0s 21ms/step - loss: 0.0493 - accuracy: 1.0000 - val_loss: 0.6580 - val_accuracy: 0.7083\n",
      "Epoch 40/100\n",
      "4/4 [==============================] - 0s 22ms/step - loss: 0.0469 - accuracy: 1.0000 - val_loss: 0.6523 - val_accuracy: 0.6875\n",
      "Epoch 41/100\n",
      "4/4 [==============================] - 0s 27ms/step - loss: 0.0444 - accuracy: 1.0000 - val_loss: 0.6460 - val_accuracy: 0.7292\n",
      "Epoch 42/100\n",
      "4/4 [==============================] - 0s 25ms/step - loss: 0.0424 - accuracy: 1.0000 - val_loss: 0.6462 - val_accuracy: 0.7083\n",
      "Epoch 43/100\n",
      "4/4 [==============================] - 0s 25ms/step - loss: 0.0404 - accuracy: 1.0000 - val_loss: 0.6408 - val_accuracy: 0.7292\n",
      "Epoch 44/100\n",
      "4/4 [==============================] - 0s 23ms/step - loss: 0.0387 - accuracy: 1.0000 - val_loss: 0.6282 - val_accuracy: 0.7083\n",
      "Epoch 45/100\n",
      "4/4 [==============================] - 0s 24ms/step - loss: 0.0369 - accuracy: 1.0000 - val_loss: 0.6352 - val_accuracy: 0.6875\n",
      "Epoch 46/100\n",
      "4/4 [==============================] - 0s 23ms/step - loss: 0.0352 - accuracy: 1.0000 - val_loss: 0.6375 - val_accuracy: 0.6875\n",
      "Epoch 47/100\n",
      "4/4 [==============================] - 0s 23ms/step - loss: 0.0337 - accuracy: 1.0000 - val_loss: 0.6438 - val_accuracy: 0.7292\n",
      "Epoch 48/100\n",
      "4/4 [==============================] - 0s 24ms/step - loss: 0.0322 - accuracy: 1.0000 - val_loss: 0.6393 - val_accuracy: 0.7500\n",
      "Epoch 49/100\n",
      "4/4 [==============================] - 0s 26ms/step - loss: 0.0311 - accuracy: 1.0000 - val_loss: 0.6371 - val_accuracy: 0.7500\n",
      "Epoch 50/100\n",
      "4/4 [==============================] - 0s 23ms/step - loss: 0.0299 - accuracy: 1.0000 - val_loss: 0.6304 - val_accuracy: 0.7708\n",
      "Epoch 51/100\n",
      "4/4 [==============================] - 0s 24ms/step - loss: 0.0290 - accuracy: 1.0000 - val_loss: 0.6122 - val_accuracy: 0.7500\n",
      "Epoch 52/100\n",
      "4/4 [==============================] - 0s 24ms/step - loss: 0.0276 - accuracy: 1.0000 - val_loss: 0.6108 - val_accuracy: 0.7500\n",
      "Epoch 53/100\n",
      "4/4 [==============================] - 0s 30ms/step - loss: 0.0266 - accuracy: 1.0000 - val_loss: 0.6134 - val_accuracy: 0.7708\n",
      "Epoch 54/100\n",
      "4/4 [==============================] - 0s 23ms/step - loss: 0.0254 - accuracy: 1.0000 - val_loss: 0.6162 - val_accuracy: 0.7708\n",
      "Epoch 55/100\n",
      "4/4 [==============================] - 0s 21ms/step - loss: 0.0246 - accuracy: 1.0000 - val_loss: 0.6221 - val_accuracy: 0.7708\n",
      "Epoch 56/100\n",
      "4/4 [==============================] - 0s 27ms/step - loss: 0.0238 - accuracy: 1.0000 - val_loss: 0.6268 - val_accuracy: 0.7708\n",
      "Epoch 57/100\n",
      "4/4 [==============================] - 0s 22ms/step - loss: 0.0229 - accuracy: 1.0000 - val_loss: 0.6196 - val_accuracy: 0.7500\n",
      "Epoch 58/100\n",
      "4/4 [==============================] - 0s 22ms/step - loss: 0.0221 - accuracy: 1.0000 - val_loss: 0.6167 - val_accuracy: 0.7500\n",
      "Epoch 59/100\n"
     ]
    },
    {
     "name": "stdout",
     "output_type": "stream",
     "text": [
      "4/4 [==============================] - 0s 23ms/step - loss: 0.0214 - accuracy: 1.0000 - val_loss: 0.6183 - val_accuracy: 0.7500\n",
      "Epoch 60/100\n",
      "4/4 [==============================] - 0s 26ms/step - loss: 0.0206 - accuracy: 1.0000 - val_loss: 0.6258 - val_accuracy: 0.7500\n",
      "Epoch 61/100\n",
      "4/4 [==============================] - 0s 20ms/step - loss: 0.0199 - accuracy: 1.0000 - val_loss: 0.6238 - val_accuracy: 0.7500\n",
      "Epoch 62/100\n",
      "4/4 [==============================] - 0s 20ms/step - loss: 0.0193 - accuracy: 1.0000 - val_loss: 0.6176 - val_accuracy: 0.7708\n",
      "Epoch 63/100\n",
      "4/4 [==============================] - 0s 21ms/step - loss: 0.0188 - accuracy: 1.0000 - val_loss: 0.6155 - val_accuracy: 0.7708\n",
      "Epoch 64/100\n",
      "4/4 [==============================] - 0s 25ms/step - loss: 0.0181 - accuracy: 1.0000 - val_loss: 0.6163 - val_accuracy: 0.7708\n",
      "Epoch 65/100\n",
      "4/4 [==============================] - 0s 20ms/step - loss: 0.0176 - accuracy: 1.0000 - val_loss: 0.6218 - val_accuracy: 0.7708\n",
      "Epoch 66/100\n",
      "4/4 [==============================] - 0s 21ms/step - loss: 0.0171 - accuracy: 1.0000 - val_loss: 0.6168 - val_accuracy: 0.7708\n",
      "Epoch 67/100\n",
      "4/4 [==============================] - 0s 23ms/step - loss: 0.0166 - accuracy: 1.0000 - val_loss: 0.6186 - val_accuracy: 0.7708\n",
      "Epoch 68/100\n",
      "4/4 [==============================] - 0s 23ms/step - loss: 0.0161 - accuracy: 1.0000 - val_loss: 0.6147 - val_accuracy: 0.7708\n",
      "Epoch 69/100\n",
      "4/4 [==============================] - 0s 23ms/step - loss: 0.0157 - accuracy: 1.0000 - val_loss: 0.6110 - val_accuracy: 0.7708\n",
      "Epoch 70/100\n",
      "4/4 [==============================] - 0s 24ms/step - loss: 0.0152 - accuracy: 1.0000 - val_loss: 0.6085 - val_accuracy: 0.7708\n",
      "Epoch 71/100\n",
      "4/4 [==============================] - 0s 26ms/step - loss: 0.0148 - accuracy: 1.0000 - val_loss: 0.6080 - val_accuracy: 0.7708\n",
      "Epoch 72/100\n",
      "4/4 [==============================] - 0s 26ms/step - loss: 0.0144 - accuracy: 1.0000 - val_loss: 0.6099 - val_accuracy: 0.7708\n",
      "Epoch 73/100\n",
      "4/4 [==============================] - 0s 25ms/step - loss: 0.0140 - accuracy: 1.0000 - val_loss: 0.6086 - val_accuracy: 0.7708\n",
      "Epoch 74/100\n",
      "4/4 [==============================] - 0s 24ms/step - loss: 0.0136 - accuracy: 1.0000 - val_loss: 0.6072 - val_accuracy: 0.7708\n",
      "Epoch 75/100\n",
      "4/4 [==============================] - 0s 26ms/step - loss: 0.0133 - accuracy: 1.0000 - val_loss: 0.6044 - val_accuracy: 0.7708\n",
      "Epoch 76/100\n",
      "4/4 [==============================] - 0s 26ms/step - loss: 0.0129 - accuracy: 1.0000 - val_loss: 0.6044 - val_accuracy: 0.7708\n",
      "Epoch 77/100\n",
      "4/4 [==============================] - 0s 23ms/step - loss: 0.0126 - accuracy: 1.0000 - val_loss: 0.6031 - val_accuracy: 0.7708\n",
      "Epoch 78/100\n",
      "4/4 [==============================] - 0s 17ms/step - loss: 0.0123 - accuracy: 1.0000 - val_loss: 0.6044 - val_accuracy: 0.7708\n",
      "Epoch 79/100\n",
      "4/4 [==============================] - 0s 21ms/step - loss: 0.0120 - accuracy: 1.0000 - val_loss: 0.6065 - val_accuracy: 0.7708\n",
      "Epoch 80/100\n",
      "4/4 [==============================] - 0s 20ms/step - loss: 0.0117 - accuracy: 1.0000 - val_loss: 0.6064 - val_accuracy: 0.7708\n",
      "Epoch 81/100\n",
      "4/4 [==============================] - 0s 20ms/step - loss: 0.0114 - accuracy: 1.0000 - val_loss: 0.6068 - val_accuracy: 0.7708\n",
      "Epoch 82/100\n",
      "4/4 [==============================] - 0s 20ms/step - loss: 0.0111 - accuracy: 1.0000 - val_loss: 0.6124 - val_accuracy: 0.7708\n",
      "Epoch 83/100\n",
      "4/4 [==============================] - 0s 22ms/step - loss: 0.0109 - accuracy: 1.0000 - val_loss: 0.6130 - val_accuracy: 0.7500\n",
      "Epoch 84/100\n",
      "4/4 [==============================] - 0s 23ms/step - loss: 0.0106 - accuracy: 1.0000 - val_loss: 0.6128 - val_accuracy: 0.7500\n",
      "Epoch 85/100\n",
      "4/4 [==============================] - 0s 21ms/step - loss: 0.0104 - accuracy: 1.0000 - val_loss: 0.6127 - val_accuracy: 0.7500\n",
      "Epoch 86/100\n",
      "4/4 [==============================] - 0s 19ms/step - loss: 0.0102 - accuracy: 1.0000 - val_loss: 0.6133 - val_accuracy: 0.7708\n",
      "Epoch 87/100\n",
      "4/4 [==============================] - 0s 20ms/step - loss: 0.0099 - accuracy: 1.0000 - val_loss: 0.6104 - val_accuracy: 0.7708\n",
      "Epoch 88/100\n",
      "4/4 [==============================] - 0s 17ms/step - loss: 0.0097 - accuracy: 1.0000 - val_loss: 0.6092 - val_accuracy: 0.7708\n",
      "Epoch 89/100\n",
      "4/4 [==============================] - 0s 18ms/step - loss: 0.0095 - accuracy: 1.0000 - val_loss: 0.6103 - val_accuracy: 0.7708\n",
      "Epoch 90/100\n",
      "4/4 [==============================] - 0s 21ms/step - loss: 0.0093 - accuracy: 1.0000 - val_loss: 0.6096 - val_accuracy: 0.7708\n",
      "Epoch 91/100\n",
      "4/4 [==============================] - 0s 23ms/step - loss: 0.0091 - accuracy: 1.0000 - val_loss: 0.6141 - val_accuracy: 0.7708\n",
      "Epoch 92/100\n",
      "4/4 [==============================] - 0s 16ms/step - loss: 0.0090 - accuracy: 1.0000 - val_loss: 0.6168 - val_accuracy: 0.7708\n",
      "Epoch 93/100\n",
      "4/4 [==============================] - 0s 20ms/step - loss: 0.0088 - accuracy: 1.0000 - val_loss: 0.6126 - val_accuracy: 0.7500\n",
      "Epoch 94/100\n",
      "4/4 [==============================] - 0s 20ms/step - loss: 0.0086 - accuracy: 1.0000 - val_loss: 0.6103 - val_accuracy: 0.7708\n",
      "Epoch 95/100\n",
      "4/4 [==============================] - 0s 22ms/step - loss: 0.0084 - accuracy: 1.0000 - val_loss: 0.6090 - val_accuracy: 0.7708\n",
      "Epoch 96/100\n",
      "4/4 [==============================] - 0s 18ms/step - loss: 0.0082 - accuracy: 1.0000 - val_loss: 0.6076 - val_accuracy: 0.7708\n",
      "Epoch 97/100\n",
      "4/4 [==============================] - 0s 17ms/step - loss: 0.0081 - accuracy: 1.0000 - val_loss: 0.6064 - val_accuracy: 0.7708\n",
      "Epoch 98/100\n",
      "4/4 [==============================] - 0s 17ms/step - loss: 0.0079 - accuracy: 1.0000 - val_loss: 0.6078 - val_accuracy: 0.7708\n",
      "Epoch 99/100\n",
      "4/4 [==============================] - 0s 19ms/step - loss: 0.0078 - accuracy: 1.0000 - val_loss: 0.6093 - val_accuracy: 0.7917\n",
      "Epoch 100/100\n",
      "4/4 [==============================] - 0s 18ms/step - loss: 0.0076 - accuracy: 1.0000 - val_loss: 0.6122 - val_accuracy: 0.7708\n"
     ]
    }
   ],
   "source": [
    "modelo_entrenado=model.fit(x_train,y_train,validation_data=(x_test,y_test),epochs=100)"
   ]
  },
  {
   "cell_type": "code",
   "execution_count": 20,
   "id": "35e21cd0",
   "metadata": {},
   "outputs": [
    {
     "data": {
      "text/plain": [
       "(1, 19999)"
      ]
     },
     "execution_count": 20,
     "metadata": {},
     "output_type": "execute_result"
    }
   ],
   "source": [
    "np.atleast_2d(data[i,:]).shape"
   ]
  },
  {
   "cell_type": "code",
   "execution_count": 45,
   "id": "f80b32f1",
   "metadata": {},
   "outputs": [],
   "source": [
    "ans=[]\n",
    "for i in range (160):\n",
    "#     print(i)\n",
    "    ans.append(np.squeeze(model.predict(np.atleast_2d(data[i,:]))))\n",
    "#     print(ans.shape)\n",
    "#     print('Dataset %i: %i' %(i//10,np.argmax(ans)))\n",
    "#     print(np.sum((i//10)==np.argmax(ans)))"
   ]
  },
  {
   "cell_type": "code",
   "execution_count": 51,
   "id": "5f0f64c5",
   "metadata": {},
   "outputs": [
    {
     "name": "stdout",
     "output_type": "stream",
     "text": [
      "149\n"
     ]
    }
   ],
   "source": [
    "ar=np.arange(160)//10\n",
    "# print(ar)\n",
    "# print(np.shape(ans))\n",
    "# print(np.argmax(ans,axis=1))\n",
    "print(np.sum(ar==np.argmax(ans,axis=1)))"
   ]
  },
  {
   "cell_type": "code",
   "execution_count": 9,
   "id": "18410bfa",
   "metadata": {
    "collapsed": true
   },
   "outputs": [
    {
     "data": {
      "image/png": "[encoded data removed]",
      "text/plain": [
       "<Figure size 432x288 with 1 Axes>"
      ]
     },
     "metadata": {
      "needs_background": "light"
     },
     "output_type": "display_data"
    },
    {
     "data": {
      "image/png": "[encoded data removed]",
      "text/plain": [
       "<Figure size 432x288 with 1 Axes>"
      ]
     },
     "metadata": {
      "needs_background": "light"
     },
     "output_type": "display_data"
    }
   ],
   "source": [
    "loss = modelo_entrenado.history['loss']\n",
    "val_loss = modelo_entrenado.history['val_loss']\n",
    "epochs = range(1, len(loss) + 1)\n",
    "plt.subplot(2,1,1)\n",
    "plt.plot(epochs,loss, 'b', label='train loss')\n",
    "plt.plot(epochs,val_loss, 'r', label='test loss')\n",
    "plt.title('Training and test loss')\n",
    "plt.xlabel('Epochs')\n",
    "plt.ylabel('Loss')\n",
    "plt.legend()\n",
    "plt.show()\n",
    "\n",
    "accuracy = modelo_entrenado.history['accuracy']\n",
    "val_accuracy = modelo_entrenado.history['val_accuracy']\n",
    "epochs = range(1, len(accuracy) + 1)\n",
    "plt.subplot(2,1,2)\n",
    "plt.plot(epochs,accuracy, 'b', label='train accuracy')\n",
    "plt.plot(epochs,val_accuracy, 'r', label='test accuracy')\n",
    "plt.title('Training and test accuracy')\n",
    "plt.xlabel('Epochs')\n",
    "plt.ylabel('Loss')\n",
    "plt.legend()\n",
    "plt.show()"
   ]
  },
  {
   "cell_type": "markdown",
   "id": "f2930147",
   "metadata": {},
   "source": [
    "## Con KerasClassifier"
   ]
  },
  {
   "cell_type": "code",
   "execution_count": 10,
   "id": "58169848",
   "metadata": {},
   "outputs": [],
   "source": [
    "def my_nn():\n",
    "    model=Sequential()\n",
    "    model.add(Dense(16,input_dim=19999,activation='relu'))\n",
    "    model.add(Dense(16,activation='relu'))\n",
    "    model.add(Dense(16,activation='softmax'))\n",
    "    model.compile(loss='categorical_crossentropy',optimizer='adam',metrics=['accuracy'])\n",
    "    return model"
   ]
  },
  {
   "cell_type": "code",
   "execution_count": 12,
   "id": "f01f8b4c",
   "metadata": {},
   "outputs": [
    {
     "name": "stdout",
     "output_type": "stream",
     "text": [
      "0.7933333436648051\n"
     ]
    }
   ],
   "source": [
    "modelo02=KerasClassifier(build_fn=my_nn,epochs=100,verbose=0)\n",
    "kfold=KFold(n_splits=15,shuffle=True)\n",
    "results=cross_val_score(modelo02,data,target,cv=kfold)\n",
    "print(results.mean())"
   ]
  },
  {
   "cell_type": "markdown",
   "id": "3535e4f3",
   "metadata": {},
   "source": [
    "# Probar red"
   ]
  },
  {
   "cell_type": "code",
   "execution_count": 69,
   "id": "0c2afa59",
   "metadata": {},
   "outputs": [],
   "source": [
    "dial01=['israel','lucero','merari','jesus']\n",
    "dial02=['Buenos dias','Buenas noches','Como estas?','Donde estas?']"
   ]
  },
  {
   "cell_type": "code",
   "execution_count": 110,
   "id": "1371ecab",
   "metadata": {},
   "outputs": [],
   "source": [
    "m1_direct='audio07.wav'\n",
    "m1=audiotoFFT(m1_direct)\n",
    "ans=np.argmax(np.squeeze(model.predict(np.atleast_2d(m1))))"
   ]
  },
  {
   "cell_type": "code",
   "execution_count": 111,
   "id": "9a0a4731",
   "metadata": {},
   "outputs": [
    {
     "name": "stdout",
     "output_type": "stream",
     "text": [
      "jesus dice: Buenos dias\n",
      "12\n"
     ]
    }
   ],
   "source": [
    "print('%s dice: %s' % (dial01[ans//4],dial02[ans%4]))\n",
    "print(ans)"
   ]
  }
 ],
 "metadata": {
  "kernelspec": {
   "display_name": "Python 3",
   "language": "python",
   "name": "python3"
  },
  "language_info": {
   "codemirror_mode": {
    "name": "ipython",
    "version": 3
   },
   "file_extension": ".py",
   "mimetype": "text/x-python",
   "name": "python",
   "nbconvert_exporter": "python",
   "pygments_lexer": "ipython3",
   "version": "3.8.8"
  }
 },
 "nbformat": 4,
 "nbformat_minor": 5
}
