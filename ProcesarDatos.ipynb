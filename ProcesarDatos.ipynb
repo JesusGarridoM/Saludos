{
 "cells": [
  {
   "cell_type": "code",
   "execution_count": 1,
   "id": "d0189177",
   "metadata": {},
   "outputs": [],
   "source": [
    "import pandas as pd\n",
    "import numpy as np\n",
    "from scipy.fft import fft\n",
    "from scipy.io import wavfile"
   ]
  },
  {
   "cell_type": "code",
   "execution_count": 2,
   "id": "ffbf1d65",
   "metadata": {},
   "outputs": [],
   "source": [
    "def leerExceltoFFT(direct,numH=16):\n",
    "#     direct='../../../UPIITA/9 SEMESTRE/SENIALES/PROYECTO/OBJ_0304/data.xlsx'\n",
    "#     hojas=np.arange(0,16).tolist()\n",
    "    hojas=np.arange(0,numH).tolist()\n",
    "    audio_pd=pd.read_excel(direct,sheet_name=hojas)\n",
    "    audio=np.array(list(audio_pd.values()))\n",
    "    audio=np.swapaxes(audio,0,1).reshape(audio.shape[1],-1).T\n",
    "#     datafft=np.abs(fft(audio))\n",
    "#     datafft=datafft[:,0:datafft.shape[1]//2]\n",
    "    datafft=toFFt(audio)\n",
    "    \n",
    "    return datafft"
   ]
  },
  {
   "cell_type": "code",
   "execution_count": null,
   "id": "ece53fa5",
   "metadata": {},
   "outputs": [],
   "source": [
    "def toFFT(audio):\n",
    "    datafft=np.atleast_2d(np.abs(fft(audio)))\n",
    "    datafft=datafft[:,0:datafft.shape[1]//2]\n",
    "    return datafft\n",
    "    "
   ]
  },
  {
   "cell_type": "code",
   "execution_count": null,
   "id": "0343c1bf",
   "metadata": {},
   "outputs": [],
   "source": [
    "def audiotoFFT(direct):\n",
    "    muestreo, datos = wavfile.read(direct)\n",
    "    datos=datos[:,0]\n",
    "    m1=toFFT(datos)\n",
    "    return (m1[-1])[:19999]"
   ]
  },
  {
   "cell_type": "code",
   "execution_count": 3,
   "id": "16e0cb4c",
   "metadata": {},
   "outputs": [],
   "source": [
    "# hojas=np.arange(0,16).tolist()"
   ]
  },
  {
   "cell_type": "code",
   "execution_count": 4,
   "id": "79e829a0",
   "metadata": {},
   "outputs": [],
   "source": [
    "# audio_pd=pd.read_excel('../../../UPIITA/9 SEMESTRE/SENIALES/PROYECTO/OBJ_0304/data.xlsx',sheet_name=hojas)"
   ]
  },
  {
   "cell_type": "code",
   "execution_count": 5,
   "id": "fc7a2996",
   "metadata": {},
   "outputs": [],
   "source": [
    "# audio=np.array(list(audio_pd.values()))\n",
    "# audio=np.swapaxes(audio,0,1).reshape(audio.shape[1],-1).T"
   ]
  },
  {
   "cell_type": "code",
   "execution_count": 6,
   "id": "9cedf304",
   "metadata": {},
   "outputs": [],
   "source": [
    "# datafft=np.abs(fft(audio))\n",
    "# datafft=datafft[:,0:datafft.shape[1]//2]"
   ]
  }
 ],
 "metadata": {
  "kernelspec": {
   "display_name": "Python 3",
   "language": "python",
   "name": "python3"
  },
  "language_info": {
   "codemirror_mode": {
    "name": "ipython",
    "version": 3
   },
   "file_extension": ".py",
   "mimetype": "text/x-python",
   "name": "python",
   "nbconvert_exporter": "python",
   "pygments_lexer": "ipython3",
   "version": "3.8.8"
  }
 },
 "nbformat": 4,
 "nbformat_minor": 5
}
