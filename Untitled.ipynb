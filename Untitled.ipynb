{
 "cells": [
  {
   "cell_type": "code",
   "execution_count": 16,
   "id": "dcef617b",
   "metadata": {},
   "outputs": [],
   "source": [
    "# import pyaudio\n",
    "import wave\n",
    "from scipy.io import wavfile\n",
    "import matplotlib.pyplot as plt\n"
   ]
  },
  {
   "cell_type": "code",
   "execution_count": 21,
   "id": "59ee3bdb",
   "metadata": {},
   "outputs": [],
   "source": [
    "%run ProcesarDatos.ipynb"
   ]
  },
  {
   "cell_type": "code",
   "execution_count": null,
   "id": "64623cc5",
   "metadata": {},
   "outputs": [],
   "source": []
  },
  {
   "cell_type": "code",
   "execution_count": 41,
   "id": "dc6d3106",
   "metadata": {},
   "outputs": [],
   "source": [
    "# chunk=1024\n",
    "# f=wave.open('audio01.wav')\n",
    "# data=f.readframes(1024)\n",
    "muestreo, datos = wavfile.read('audio02.wav')\n",
    "# plt.subplot(2,1,1)\n",
    "# plt.plot(datos[:,0],'r')\n",
    "# plt.subplot(2,1,2)\n",
    "# plt.plot(datos[:,1],'g')"
   ]
  },
  {
   "cell_type": "code",
   "execution_count": 42,
   "id": "bb31d6f7",
   "metadata": {},
   "outputs": [],
   "source": [
    "datos=datos[:,0]\n",
    "m1=toFFT(datos)"
   ]
  },
  {
   "cell_type": "code",
   "execution_count": 45,
   "id": "d723c38a",
   "metadata": {},
   "outputs": [
    {
     "name": "stdout",
     "output_type": "stream",
     "text": [
      "(121856,)\n",
      "(1, 121856)\n"
     ]
    },
    {
     "data": {
      "text/plain": [
       "(19999,)"
      ]
     },
     "execution_count": 45,
     "metadata": {},
     "output_type": "execute_result"
    },
    {
     "data": {
      "image/png": "[encoded data removed]",
      "text/plain": [
       "<Figure size 432x288 with 1 Axes>"
      ]
     },
     "metadata": {
      "needs_background": "light"
     },
     "output_type": "display_data"
    }
   ],
   "source": [
    "print(m1[-1].shape)\n",
    "print(m1.shape)\n",
    "# plt.plot((m1[-1])[:19999])\n",
    "plt.plot((m1[-1]))\n",
    "(m1[-1])[:19999].shape"
   ]
  }
 ],
 "metadata": {
  "kernelspec": {
   "display_name": "Python 3",
   "language": "python",
   "name": "python3"
  },
  "language_info": {
   "codemirror_mode": {
    "name": "ipython",
    "version": 3
   },
   "file_extension": ".py",
   "mimetype": "text/x-python",
   "name": "python",
   "nbconvert_exporter": "python",
   "pygments_lexer": "ipython3",
   "version": "3.8.8"
  }
 },
 "nbformat": 4,
 "nbformat_minor": 5
}
